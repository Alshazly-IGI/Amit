{
 "cells": [
  {
   "cell_type": "code",
   "execution_count": 1,
   "id": "08267f77",
   "metadata": {},
   "outputs": [
    {
     "data": {
      "text/html": [
       "<div>\n",
       "<style scoped>\n",
       "    .dataframe tbody tr th:only-of-type {\n",
       "        vertical-align: middle;\n",
       "    }\n",
       "\n",
       "    .dataframe tbody tr th {\n",
       "        vertical-align: top;\n",
       "    }\n",
       "\n",
       "    .dataframe thead th {\n",
       "        text-align: right;\n",
       "    }\n",
       "</style>\n",
       "<table border=\"1\" class=\"dataframe\">\n",
       "  <thead>\n",
       "    <tr style=\"text-align: right;\">\n",
       "      <th></th>\n",
       "      <th>EmployeeName</th>\n",
       "      <th>JobTitle</th>\n",
       "      <th>BasePay</th>\n",
       "      <th>OvertimePay</th>\n",
       "      <th>OtherPay</th>\n",
       "      <th>Benefits</th>\n",
       "      <th>TotalPay</th>\n",
       "      <th>TotalPayBenefits</th>\n",
       "      <th>Year</th>\n",
       "    </tr>\n",
       "  </thead>\n",
       "  <tbody>\n",
       "    <tr>\n",
       "      <th>0</th>\n",
       "      <td>NATHANIEL FORD</td>\n",
       "      <td>GENERAL MANAGER-METROPOLITAN TRANSIT AUTHORITY</td>\n",
       "      <td>167411.18</td>\n",
       "      <td>0.00</td>\n",
       "      <td>400184.25</td>\n",
       "      <td>Not Provided</td>\n",
       "      <td>567595.43</td>\n",
       "      <td>567595.43</td>\n",
       "      <td>2011</td>\n",
       "    </tr>\n",
       "    <tr>\n",
       "      <th>1</th>\n",
       "      <td>GARY JIMENEZ</td>\n",
       "      <td>CAPTAIN III (POLICE DEPARTMENT)</td>\n",
       "      <td>155966.02</td>\n",
       "      <td>245131.88</td>\n",
       "      <td>137811.38</td>\n",
       "      <td>Not Provided</td>\n",
       "      <td>538909.28</td>\n",
       "      <td>538909.28</td>\n",
       "      <td>2011</td>\n",
       "    </tr>\n",
       "    <tr>\n",
       "      <th>2</th>\n",
       "      <td>ALBERT PARDINI</td>\n",
       "      <td>CAPTAIN III (POLICE DEPARTMENT)</td>\n",
       "      <td>212739.13</td>\n",
       "      <td>106088.18</td>\n",
       "      <td>16452.60</td>\n",
       "      <td>Not Provided</td>\n",
       "      <td>335279.91</td>\n",
       "      <td>335279.91</td>\n",
       "      <td>2011</td>\n",
       "    </tr>\n",
       "    <tr>\n",
       "      <th>3</th>\n",
       "      <td>CHRISTOPHER CHONG</td>\n",
       "      <td>WIRE ROPE CABLE MAINTENANCE MECHANIC</td>\n",
       "      <td>77916.00</td>\n",
       "      <td>56120.71</td>\n",
       "      <td>198306.90</td>\n",
       "      <td>Not Provided</td>\n",
       "      <td>332343.61</td>\n",
       "      <td>332343.61</td>\n",
       "      <td>2011</td>\n",
       "    </tr>\n",
       "    <tr>\n",
       "      <th>4</th>\n",
       "      <td>PATRICK GARDNER</td>\n",
       "      <td>DEPUTY CHIEF OF DEPARTMENT,(FIRE DEPARTMENT)</td>\n",
       "      <td>134401.60</td>\n",
       "      <td>9737.00</td>\n",
       "      <td>182234.59</td>\n",
       "      <td>Not Provided</td>\n",
       "      <td>326373.19</td>\n",
       "      <td>326373.19</td>\n",
       "      <td>2011</td>\n",
       "    </tr>\n",
       "  </tbody>\n",
       "</table>\n",
       "</div>"
      ],
      "text/plain": [
       "        EmployeeName                                        JobTitle  \\\n",
       "0     NATHANIEL FORD  GENERAL MANAGER-METROPOLITAN TRANSIT AUTHORITY   \n",
       "1       GARY JIMENEZ                 CAPTAIN III (POLICE DEPARTMENT)   \n",
       "2     ALBERT PARDINI                 CAPTAIN III (POLICE DEPARTMENT)   \n",
       "3  CHRISTOPHER CHONG            WIRE ROPE CABLE MAINTENANCE MECHANIC   \n",
       "4    PATRICK GARDNER    DEPUTY CHIEF OF DEPARTMENT,(FIRE DEPARTMENT)   \n",
       "\n",
       "     BasePay OvertimePay   OtherPay      Benefits   TotalPay  \\\n",
       "0  167411.18        0.00  400184.25  Not Provided  567595.43   \n",
       "1  155966.02   245131.88  137811.38  Not Provided  538909.28   \n",
       "2  212739.13   106088.18   16452.60  Not Provided  335279.91   \n",
       "3   77916.00    56120.71  198306.90  Not Provided  332343.61   \n",
       "4  134401.60     9737.00  182234.59  Not Provided  326373.19   \n",
       "\n",
       "   TotalPayBenefits  Year  \n",
       "0         567595.43  2011  \n",
       "1         538909.28  2011  \n",
       "2         335279.91  2011  \n",
       "3         332343.61  2011  \n",
       "4         326373.19  2011  "
      ]
     },
     "execution_count": 1,
     "metadata": {},
     "output_type": "execute_result"
    }
   ],
   "source": [
    "import pandas as pd\n",
    "import numpy as np\n",
    "df=pd.read_csv('Total.csv',low_memory=False)\n",
    "df.head()"
   ]
  },
  {
   "cell_type": "markdown",
   "id": "d7e5ebfc",
   "metadata": {},
   "source": [
    "# clean data and pre processing"
   ]
  },
  {
   "cell_type": "code",
   "execution_count": 2,
   "id": "57f1a516",
   "metadata": {},
   "outputs": [],
   "source": [
    "df.columns=df.columns.str.strip()"
   ]
  },
  {
   "cell_type": "code",
   "execution_count": 3,
   "id": "6fc61a6b",
   "metadata": {},
   "outputs": [],
   "source": [
    "df['EmployeeName']=df['EmployeeName'].str.lower()"
   ]
  },
  {
   "cell_type": "code",
   "execution_count": 4,
   "id": "3ac0a90f",
   "metadata": {},
   "outputs": [],
   "source": [
    "df['JobTitle']=df['JobTitle'].str.lower()"
   ]
  },
  {
   "cell_type": "code",
   "execution_count": 5,
   "id": "23b226e4",
   "metadata": {},
   "outputs": [
    {
     "data": {
      "text/html": [
       "<div>\n",
       "<style scoped>\n",
       "    .dataframe tbody tr th:only-of-type {\n",
       "        vertical-align: middle;\n",
       "    }\n",
       "\n",
       "    .dataframe tbody tr th {\n",
       "        vertical-align: top;\n",
       "    }\n",
       "\n",
       "    .dataframe thead th {\n",
       "        text-align: right;\n",
       "    }\n",
       "</style>\n",
       "<table border=\"1\" class=\"dataframe\">\n",
       "  <thead>\n",
       "    <tr style=\"text-align: right;\">\n",
       "      <th></th>\n",
       "      <th>EmployeeName</th>\n",
       "      <th>JobTitle</th>\n",
       "      <th>BasePay</th>\n",
       "      <th>OvertimePay</th>\n",
       "      <th>OtherPay</th>\n",
       "      <th>Benefits</th>\n",
       "      <th>TotalPay</th>\n",
       "      <th>TotalPayBenefits</th>\n",
       "      <th>Year</th>\n",
       "    </tr>\n",
       "  </thead>\n",
       "  <tbody>\n",
       "    <tr>\n",
       "      <th>0</th>\n",
       "      <td>nathaniel ford</td>\n",
       "      <td>general manager-metropolitan transit authority</td>\n",
       "      <td>167411.18</td>\n",
       "      <td>0.00</td>\n",
       "      <td>400184.25</td>\n",
       "      <td>Not Provided</td>\n",
       "      <td>567595.43</td>\n",
       "      <td>567595.43</td>\n",
       "      <td>2011</td>\n",
       "    </tr>\n",
       "    <tr>\n",
       "      <th>1</th>\n",
       "      <td>gary jimenez</td>\n",
       "      <td>captain iii (police department)</td>\n",
       "      <td>155966.02</td>\n",
       "      <td>245131.88</td>\n",
       "      <td>137811.38</td>\n",
       "      <td>Not Provided</td>\n",
       "      <td>538909.28</td>\n",
       "      <td>538909.28</td>\n",
       "      <td>2011</td>\n",
       "    </tr>\n",
       "    <tr>\n",
       "      <th>2</th>\n",
       "      <td>albert pardini</td>\n",
       "      <td>captain iii (police department)</td>\n",
       "      <td>212739.13</td>\n",
       "      <td>106088.18</td>\n",
       "      <td>16452.60</td>\n",
       "      <td>Not Provided</td>\n",
       "      <td>335279.91</td>\n",
       "      <td>335279.91</td>\n",
       "      <td>2011</td>\n",
       "    </tr>\n",
       "    <tr>\n",
       "      <th>3</th>\n",
       "      <td>christopher chong</td>\n",
       "      <td>wire rope cable maintenance mechanic</td>\n",
       "      <td>77916.00</td>\n",
       "      <td>56120.71</td>\n",
       "      <td>198306.90</td>\n",
       "      <td>Not Provided</td>\n",
       "      <td>332343.61</td>\n",
       "      <td>332343.61</td>\n",
       "      <td>2011</td>\n",
       "    </tr>\n",
       "    <tr>\n",
       "      <th>4</th>\n",
       "      <td>patrick gardner</td>\n",
       "      <td>deputy chief of department,(fire department)</td>\n",
       "      <td>134401.60</td>\n",
       "      <td>9737.00</td>\n",
       "      <td>182234.59</td>\n",
       "      <td>Not Provided</td>\n",
       "      <td>326373.19</td>\n",
       "      <td>326373.19</td>\n",
       "      <td>2011</td>\n",
       "    </tr>\n",
       "  </tbody>\n",
       "</table>\n",
       "</div>"
      ],
      "text/plain": [
       "        EmployeeName                                        JobTitle  \\\n",
       "0     nathaniel ford  general manager-metropolitan transit authority   \n",
       "1       gary jimenez                 captain iii (police department)   \n",
       "2     albert pardini                 captain iii (police department)   \n",
       "3  christopher chong            wire rope cable maintenance mechanic   \n",
       "4    patrick gardner    deputy chief of department,(fire department)   \n",
       "\n",
       "     BasePay OvertimePay   OtherPay      Benefits   TotalPay  \\\n",
       "0  167411.18        0.00  400184.25  Not Provided  567595.43   \n",
       "1  155966.02   245131.88  137811.38  Not Provided  538909.28   \n",
       "2  212739.13   106088.18   16452.60  Not Provided  335279.91   \n",
       "3   77916.00    56120.71  198306.90  Not Provided  332343.61   \n",
       "4  134401.60     9737.00  182234.59  Not Provided  326373.19   \n",
       "\n",
       "   TotalPayBenefits  Year  \n",
       "0         567595.43  2011  \n",
       "1         538909.28  2011  \n",
       "2         335279.91  2011  \n",
       "3         332343.61  2011  \n",
       "4         326373.19  2011  "
      ]
     },
     "execution_count": 5,
     "metadata": {},
     "output_type": "execute_result"
    }
   ],
   "source": [
    "df.head()"
   ]
  },
  {
   "cell_type": "code",
   "execution_count": 6,
   "id": "7eac52fa",
   "metadata": {},
   "outputs": [
    {
     "name": "stdout",
     "output_type": "stream",
     "text": [
      "<class 'pandas.core.frame.DataFrame'>\n",
      "RangeIndex: 312882 entries, 0 to 312881\n",
      "Data columns (total 9 columns):\n",
      " #   Column            Non-Null Count   Dtype  \n",
      "---  ------            --------------   -----  \n",
      " 0   EmployeeName      312882 non-null  object \n",
      " 1   JobTitle          312882 non-null  object \n",
      " 2   BasePay           312882 non-null  object \n",
      " 3   OvertimePay       312882 non-null  object \n",
      " 4   OtherPay          312882 non-null  object \n",
      " 5   Benefits          312882 non-null  object \n",
      " 6   TotalPay          312882 non-null  float64\n",
      " 7   TotalPayBenefits  312882 non-null  float64\n",
      " 8   Year              312882 non-null  int64  \n",
      "dtypes: float64(2), int64(1), object(6)\n",
      "memory usage: 21.5+ MB\n"
     ]
    }
   ],
   "source": [
    "df.info()"
   ]
  },
  {
   "cell_type": "code",
   "execution_count": 7,
   "id": "271944fd",
   "metadata": {},
   "outputs": [
    {
     "name": "stdout",
     "output_type": "stream",
     "text": [
      "<class 'pandas.core.frame.DataFrame'>\n",
      "RangeIndex: 312882 entries, 0 to 312881\n",
      "Data columns (total 9 columns):\n",
      " #   Column            Non-Null Count   Dtype  \n",
      "---  ------            --------------   -----  \n",
      " 0   EmployeeName      312882 non-null  object \n",
      " 1   JobTitle          312882 non-null  object \n",
      " 2   BasePay           312276 non-null  float64\n",
      " 3   OvertimePay       312881 non-null  float64\n",
      " 4   OtherPay          312881 non-null  float64\n",
      " 5   Benefits          276722 non-null  float64\n",
      " 6   TotalPay          312882 non-null  float64\n",
      " 7   TotalPayBenefits  312882 non-null  float64\n",
      " 8   Year              312882 non-null  int64  \n",
      "dtypes: float64(6), int64(1), object(2)\n",
      "memory usage: 21.5+ MB\n"
     ]
    }
   ],
   "source": [
    "df['BasePay']=pd.to_numeric(df['BasePay'],errors='coerce')\n",
    "df['OvertimePay']=pd.to_numeric(df['OvertimePay'],errors='coerce')\n",
    "df['OtherPay']=pd.to_numeric(df['OtherPay'],errors='coerce')\n",
    "df['Benefits']=pd.to_numeric(df['Benefits'],errors='coerce')\n",
    "df.info()"
   ]
  },
  {
   "cell_type": "code",
   "execution_count": 8,
   "id": "26c4e4f1",
   "metadata": {},
   "outputs": [
    {
     "data": {
      "text/plain": [
       "EmployeeName            0\n",
       "JobTitle                0\n",
       "BasePay               606\n",
       "OvertimePay             1\n",
       "OtherPay                1\n",
       "Benefits            36160\n",
       "TotalPay                0\n",
       "TotalPayBenefits        0\n",
       "Year                    0\n",
       "dtype: int64"
      ]
     },
     "execution_count": 8,
     "metadata": {},
     "output_type": "execute_result"
    }
   ],
   "source": [
    "df.isnull().sum()"
   ]
  },
  {
   "cell_type": "code",
   "execution_count": 9,
   "id": "909d9e69",
   "metadata": {},
   "outputs": [
    {
     "data": {
      "text/plain": [
       "EmployeeName        0\n",
       "JobTitle            0\n",
       "BasePay             0\n",
       "OvertimePay         0\n",
       "OtherPay            0\n",
       "Benefits            0\n",
       "TotalPay            0\n",
       "TotalPayBenefits    0\n",
       "Year                0\n",
       "dtype: int64"
      ]
     },
     "execution_count": 9,
     "metadata": {},
     "output_type": "execute_result"
    }
   ],
   "source": [
    "df['BasePay']=df['BasePay'].fillna(0)\n",
    "df['OvertimePay']=df['OvertimePay'].fillna(0)\n",
    "df['OtherPay']=df['OtherPay'].fillna(0)\n",
    "df['Benefits']=df['Benefits'].fillna(0)\n",
    "df.isnull().sum()"
   ]
  },
  {
   "cell_type": "code",
   "execution_count": 10,
   "id": "e15a7f6f",
   "metadata": {},
   "outputs": [
    {
     "data": {
      "text/plain": [
       "0"
      ]
     },
     "execution_count": 10,
     "metadata": {},
     "output_type": "execute_result"
    }
   ],
   "source": [
    "df.duplicated().any().sum()"
   ]
  },
  {
   "cell_type": "code",
   "execution_count": 11,
   "id": "f879fc99",
   "metadata": {},
   "outputs": [
    {
     "data": {
      "text/html": [
       "<div>\n",
       "<style scoped>\n",
       "    .dataframe tbody tr th:only-of-type {\n",
       "        vertical-align: middle;\n",
       "    }\n",
       "\n",
       "    .dataframe tbody tr th {\n",
       "        vertical-align: top;\n",
       "    }\n",
       "\n",
       "    .dataframe thead th {\n",
       "        text-align: right;\n",
       "    }\n",
       "</style>\n",
       "<table border=\"1\" class=\"dataframe\">\n",
       "  <thead>\n",
       "    <tr style=\"text-align: right;\">\n",
       "      <th></th>\n",
       "      <th>EmployeeName</th>\n",
       "      <th>JobTitle</th>\n",
       "      <th>BasePay</th>\n",
       "      <th>OvertimePay</th>\n",
       "      <th>OtherPay</th>\n",
       "      <th>Benefits</th>\n",
       "      <th>TotalPay</th>\n",
       "      <th>TotalPayBenefits</th>\n",
       "      <th>Year</th>\n",
       "    </tr>\n",
       "  </thead>\n",
       "  <tbody>\n",
       "    <tr>\n",
       "      <th>0</th>\n",
       "      <td>nathaniel ford</td>\n",
       "      <td>general manager-metropolitan transit authority</td>\n",
       "      <td>167411.18</td>\n",
       "      <td>0.00</td>\n",
       "      <td>400184.25</td>\n",
       "      <td>0.0</td>\n",
       "      <td>567595.43</td>\n",
       "      <td>567595.43</td>\n",
       "      <td>2011</td>\n",
       "    </tr>\n",
       "    <tr>\n",
       "      <th>1</th>\n",
       "      <td>gary jimenez</td>\n",
       "      <td>captain iii (police department)</td>\n",
       "      <td>155966.02</td>\n",
       "      <td>245131.88</td>\n",
       "      <td>137811.38</td>\n",
       "      <td>0.0</td>\n",
       "      <td>538909.28</td>\n",
       "      <td>538909.28</td>\n",
       "      <td>2011</td>\n",
       "    </tr>\n",
       "    <tr>\n",
       "      <th>2</th>\n",
       "      <td>albert pardini</td>\n",
       "      <td>captain iii (police department)</td>\n",
       "      <td>212739.13</td>\n",
       "      <td>106088.18</td>\n",
       "      <td>16452.60</td>\n",
       "      <td>0.0</td>\n",
       "      <td>335279.91</td>\n",
       "      <td>335279.91</td>\n",
       "      <td>2011</td>\n",
       "    </tr>\n",
       "    <tr>\n",
       "      <th>3</th>\n",
       "      <td>christopher chong</td>\n",
       "      <td>wire rope cable maintenance mechanic</td>\n",
       "      <td>77916.00</td>\n",
       "      <td>56120.71</td>\n",
       "      <td>198306.90</td>\n",
       "      <td>0.0</td>\n",
       "      <td>332343.61</td>\n",
       "      <td>332343.61</td>\n",
       "      <td>2011</td>\n",
       "    </tr>\n",
       "    <tr>\n",
       "      <th>4</th>\n",
       "      <td>patrick gardner</td>\n",
       "      <td>deputy chief of department,(fire department)</td>\n",
       "      <td>134401.60</td>\n",
       "      <td>9737.00</td>\n",
       "      <td>182234.59</td>\n",
       "      <td>0.0</td>\n",
       "      <td>326373.19</td>\n",
       "      <td>326373.19</td>\n",
       "      <td>2011</td>\n",
       "    </tr>\n",
       "  </tbody>\n",
       "</table>\n",
       "</div>"
      ],
      "text/plain": [
       "        EmployeeName                                        JobTitle  \\\n",
       "0     nathaniel ford  general manager-metropolitan transit authority   \n",
       "1       gary jimenez                 captain iii (police department)   \n",
       "2     albert pardini                 captain iii (police department)   \n",
       "3  christopher chong            wire rope cable maintenance mechanic   \n",
       "4    patrick gardner    deputy chief of department,(fire department)   \n",
       "\n",
       "     BasePay  OvertimePay   OtherPay  Benefits   TotalPay  TotalPayBenefits  \\\n",
       "0  167411.18         0.00  400184.25       0.0  567595.43         567595.43   \n",
       "1  155966.02    245131.88  137811.38       0.0  538909.28         538909.28   \n",
       "2  212739.13    106088.18   16452.60       0.0  335279.91         335279.91   \n",
       "3   77916.00     56120.71  198306.90       0.0  332343.61         332343.61   \n",
       "4  134401.60      9737.00  182234.59       0.0  326373.19         326373.19   \n",
       "\n",
       "   Year  \n",
       "0  2011  \n",
       "1  2011  \n",
       "2  2011  \n",
       "3  2011  \n",
       "4  2011  "
      ]
     },
     "execution_count": 11,
     "metadata": {},
     "output_type": "execute_result"
    }
   ],
   "source": [
    "df.head()"
   ]
  },
  {
   "cell_type": "code",
   "execution_count": 12,
   "id": "70254635",
   "metadata": {},
   "outputs": [
    {
     "name": "stdout",
     "output_type": "stream",
     "text": [
      "<class 'pandas.core.frame.DataFrame'>\n",
      "RangeIndex: 312882 entries, 0 to 312881\n",
      "Data columns (total 9 columns):\n",
      " #   Column            Non-Null Count   Dtype  \n",
      "---  ------            --------------   -----  \n",
      " 0   EmployeeName      312882 non-null  object \n",
      " 1   JobTitle          312882 non-null  object \n",
      " 2   BasePay           312882 non-null  float64\n",
      " 3   OvertimePay       312882 non-null  float64\n",
      " 4   OtherPay          312882 non-null  float64\n",
      " 5   Benefits          312882 non-null  float64\n",
      " 6   TotalPay          312882 non-null  float64\n",
      " 7   TotalPayBenefits  312882 non-null  float64\n",
      " 8   Year              312882 non-null  int64  \n",
      "dtypes: float64(6), int64(1), object(2)\n",
      "memory usage: 21.5+ MB\n"
     ]
    }
   ],
   "source": [
    "df.info()"
   ]
  },
  {
   "cell_type": "code",
   "execution_count": 13,
   "id": "3759bd50",
   "metadata": {},
   "outputs": [],
   "source": [
    "df.to_csv('Totalf.csv',index=False)"
   ]
  },
  {
   "cell_type": "markdown",
   "id": "6a7c0589",
   "metadata": {},
   "source": [
    "# 1. Basic Information:\n",
    "### How many records (rows) and fields (columns) are there in the dataset?\n",
    "### What are the names of the columns in the dataset?\n",
    "### What are the data types of each column?\n"
   ]
  },
  {
   "cell_type": "code",
   "execution_count": 14,
   "id": "3e2f2095",
   "metadata": {},
   "outputs": [
    {
     "name": "stdout",
     "output_type": "stream",
     "text": [
      "<class 'pandas.core.frame.DataFrame'>\n",
      "RangeIndex: 312882 entries, 0 to 312881\n",
      "Data columns (total 9 columns):\n",
      " #   Column            Non-Null Count   Dtype  \n",
      "---  ------            --------------   -----  \n",
      " 0   EmployeeName      312882 non-null  object \n",
      " 1   JobTitle          312882 non-null  object \n",
      " 2   BasePay           312882 non-null  float64\n",
      " 3   OvertimePay       312882 non-null  float64\n",
      " 4   OtherPay          312882 non-null  float64\n",
      " 5   Benefits          312882 non-null  float64\n",
      " 6   TotalPay          312882 non-null  float64\n",
      " 7   TotalPayBenefits  312882 non-null  float64\n",
      " 8   Year              312882 non-null  int64  \n",
      "dtypes: float64(6), int64(1), object(2)\n",
      "memory usage: 21.5+ MB\n"
     ]
    }
   ],
   "source": [
    "df.info()"
   ]
  },
  {
   "cell_type": "markdown",
   "id": "d39d0ac2",
   "metadata": {},
   "source": [
    "### How many records (rows)"
   ]
  },
  {
   "cell_type": "code",
   "execution_count": 15,
   "id": "8a84425a",
   "metadata": {},
   "outputs": [
    {
     "data": {
      "text/plain": [
       "312882"
      ]
     },
     "execution_count": 15,
     "metadata": {},
     "output_type": "execute_result"
    }
   ],
   "source": [
    "df.shape[0]"
   ]
  },
  {
   "cell_type": "markdown",
   "id": "867ed321",
   "metadata": {},
   "source": [
    "### How many Columns"
   ]
  },
  {
   "cell_type": "code",
   "execution_count": 16,
   "id": "2a5797a3",
   "metadata": {},
   "outputs": [
    {
     "data": {
      "text/plain": [
       "9"
      ]
     },
     "execution_count": 16,
     "metadata": {},
     "output_type": "execute_result"
    }
   ],
   "source": [
    "col = df.columns\n",
    "x=len(col)\n",
    "x"
   ]
  },
  {
   "cell_type": "markdown",
   "id": "5afc30b5",
   "metadata": {},
   "source": [
    "### What are the names of the columns in the dataset?"
   ]
  },
  {
   "cell_type": "code",
   "execution_count": 17,
   "id": "e2ca839d",
   "metadata": {},
   "outputs": [
    {
     "data": {
      "text/plain": [
       "Index(['EmployeeName', 'JobTitle', 'BasePay', 'OvertimePay', 'OtherPay',\n",
       "       'Benefits', 'TotalPay', 'TotalPayBenefits', 'Year'],\n",
       "      dtype='object')"
      ]
     },
     "execution_count": 17,
     "metadata": {},
     "output_type": "execute_result"
    }
   ],
   "source": [
    "col = df.columns\n",
    "col"
   ]
  },
  {
   "cell_type": "code",
   "execution_count": 18,
   "id": "e8ebff3f",
   "metadata": {},
   "outputs": [
    {
     "name": "stdout",
     "output_type": "stream",
     "text": [
      "<class 'pandas.core.frame.DataFrame'>\n",
      "RangeIndex: 312882 entries, 0 to 312881\n",
      "Data columns (total 9 columns):\n",
      " #   Column            Non-Null Count   Dtype  \n",
      "---  ------            --------------   -----  \n",
      " 0   EmployeeName      312882 non-null  object \n",
      " 1   JobTitle          312882 non-null  object \n",
      " 2   BasePay           312882 non-null  float64\n",
      " 3   OvertimePay       312882 non-null  float64\n",
      " 4   OtherPay          312882 non-null  float64\n",
      " 5   Benefits          312882 non-null  float64\n",
      " 6   TotalPay          312882 non-null  float64\n",
      " 7   TotalPayBenefits  312882 non-null  float64\n",
      " 8   Year              312882 non-null  int64  \n",
      "dtypes: float64(6), int64(1), object(2)\n",
      "memory usage: 21.5+ MB\n"
     ]
    }
   ],
   "source": [
    "df.info()"
   ]
  },
  {
   "cell_type": "markdown",
   "id": "3fd82a3d",
   "metadata": {},
   "source": [
    "# 2. Salary Overview:"
   ]
  },
  {
   "cell_type": "markdown",
   "id": "d2c45878",
   "metadata": {},
   "source": [
    "### What is the average salary for the entire dataset?"
   ]
  },
  {
   "cell_type": "code",
   "execution_count": 19,
   "id": "44a7c519",
   "metadata": {
    "scrolled": false
   },
   "outputs": [
    {
     "data": {
      "text/plain": [
       "100928.33977713643"
      ]
     },
     "execution_count": 19,
     "metadata": {},
     "output_type": "execute_result"
    }
   ],
   "source": [
    "df['TotalPayBenefits'].mean()"
   ]
  },
  {
   "cell_type": "markdown",
   "id": "ee48795c",
   "metadata": {},
   "source": [
    "### What is the highest and lowest salary recorded in the dataset?"
   ]
  },
  {
   "cell_type": "code",
   "execution_count": 20,
   "id": "929bf1e5",
   "metadata": {},
   "outputs": [
    {
     "data": {
      "text/plain": [
       "712802.36"
      ]
     },
     "execution_count": 20,
     "metadata": {},
     "output_type": "execute_result"
    }
   ],
   "source": [
    "df['TotalPayBenefits'].max()"
   ]
  },
  {
   "cell_type": "code",
   "execution_count": 21,
   "id": "28ca9258",
   "metadata": {},
   "outputs": [
    {
     "data": {
      "text/plain": [
       "-3628.78"
      ]
     },
     "execution_count": 21,
     "metadata": {},
     "output_type": "execute_result"
    }
   ],
   "source": [
    "df['TotalPayBenefits'].min()"
   ]
  },
  {
   "cell_type": "markdown",
   "id": "8514525e",
   "metadata": {},
   "source": [
    "### What is the distribution of salaries across different pay scales?"
   ]
  },
  {
   "cell_type": "code",
   "execution_count": 22,
   "id": "ffd9b727",
   "metadata": {},
   "outputs": [
    {
     "name": "stdout",
     "output_type": "stream",
     "text": [
      "corelation between BasePay and TotalPayBenefits :  0.9560542978806547\n"
     ]
    }
   ],
   "source": [
    "relvevant_column=['JobTitle','BasePay','TotalPayBenefits']\n",
    "data_subset=df[relvevant_column]\n",
    "corelation=data_subset['BasePay'].corr(data_subset['TotalPayBenefits'])\n",
    "print('corelation between BasePay and TotalPayBenefits : ',corelation)"
   ]
  },
  {
   "cell_type": "markdown",
   "id": "5fe5d5ce",
   "metadata": {},
   "source": [
    "# 3. Yearly Trends:"
   ]
  },
  {
   "cell_type": "markdown",
   "id": "c0dc176d",
   "metadata": {},
   "source": [
    "### How does the average salary change from year to year? "
   ]
  },
  {
   "cell_type": "code",
   "execution_count": 23,
   "id": "cf158480",
   "metadata": {
    "scrolled": true
   },
   "outputs": [
    {
     "name": "stderr",
     "output_type": "stream",
     "text": [
      "C:\\Users\\elshazly.abouelhamd\\AppData\\Local\\Temp\\ipykernel_21548\\970515188.py:1: FutureWarning: The default value of numeric_only in DataFrameGroupBy.mean is deprecated. In a future version, numeric_only will default to False. Either specify numeric_only or select only columns which should be valid for the function.\n",
      "  df.groupby(['Year']).mean()['TotalPayBenefits']\n"
     ]
    },
    {
     "data": {
      "text/plain": [
       "Year\n",
       "2011     71744.103871\n",
       "2012    100553.229232\n",
       "2013    101440.519714\n",
       "2014    100261.438668\n",
       "2015    101725.909937\n",
       "2016    104581.440982\n",
       "2017    109669.462197\n",
       "2018    113474.363514\n",
       "Name: TotalPayBenefits, dtype: float64"
      ]
     },
     "execution_count": 23,
     "metadata": {},
     "output_type": "execute_result"
    }
   ],
   "source": [
    "df.groupby(['Year']).mean()['TotalPayBenefits']"
   ]
  },
  {
   "cell_type": "markdown",
   "id": "a102efc4",
   "metadata": {},
   "source": [
    "### What is the overall salary trend over the years?"
   ]
  },
  {
   "cell_type": "code",
   "execution_count": 24,
   "id": "ce9ff524",
   "metadata": {
    "scrolled": true
   },
   "outputs": [
    {
     "data": {
      "text/plain": [
       "Year\n",
       "2011    567595.43\n",
       "2012    407274.78\n",
       "2013    425815.28\n",
       "2014    510732.68\n",
       "2015    633723.33\n",
       "2016    641845.82\n",
       "2017    666180.14\n",
       "2018    712802.36\n",
       "Name: TotalPayBenefits, dtype: float64"
      ]
     },
     "execution_count": 24,
     "metadata": {},
     "output_type": "execute_result"
    }
   ],
   "source": [
    "df.groupby(['Year']).max()['TotalPayBenefits']"
   ]
  },
  {
   "cell_type": "markdown",
   "id": "082d483c",
   "metadata": {},
   "source": [
    "# 4. Department Analysis:"
   ]
  },
  {
   "cell_type": "markdown",
   "id": "ab0c3967",
   "metadata": {},
   "source": [
    "# •\tWhich departments (JobTitle) have the highest and lowest average salaries?"
   ]
  },
  {
   "cell_type": "markdown",
   "id": "6b6f742b",
   "metadata": {},
   "source": [
    "## highest average salaries "
   ]
  },
  {
   "cell_type": "code",
   "execution_count": 25,
   "id": "4cb9fe08",
   "metadata": {
    "scrolled": false
   },
   "outputs": [
    {
     "name": "stderr",
     "output_type": "stream",
     "text": [
      "C:\\Users\\elshazly.abouelhamd\\AppData\\Local\\Temp\\ipykernel_21548\\2353739472.py:1: FutureWarning: The default value of numeric_only in DataFrameGroupBy.mean is deprecated. In a future version, numeric_only will default to False. Either specify numeric_only or select only columns which should be valid for the function.\n",
      "  x=df.groupby(['JobTitle']).mean()['TotalPayBenefits']\n"
     ]
    },
    {
     "data": {
      "text/plain": [
       "JobTitle\n",
       "chief investment officer    611728.638\n",
       "Name: TotalPayBenefits, dtype: float64"
      ]
     },
     "execution_count": 25,
     "metadata": {},
     "output_type": "execute_result"
    }
   ],
   "source": [
    "x=df.groupby(['JobTitle']).mean()['TotalPayBenefits']\n",
    "e=x.sort_values(ascending=False) \n",
    "e.head(1)"
   ]
  },
  {
   "cell_type": "markdown",
   "id": "a3e2f01a",
   "metadata": {},
   "source": [
    "#### lowest average salaries"
   ]
  },
  {
   "cell_type": "code",
   "execution_count": 26,
   "id": "c761bafc",
   "metadata": {},
   "outputs": [
    {
     "name": "stderr",
     "output_type": "stream",
     "text": [
      "C:\\Users\\elshazly.abouelhamd\\AppData\\Local\\Temp\\ipykernel_21548\\4052677136.py:1: FutureWarning: The default value of numeric_only in DataFrameGroupBy.mean is deprecated. In a future version, numeric_only will default to False. Either specify numeric_only or select only columns which should be valid for the function.\n",
      "  x=df.groupby(['JobTitle']).mean()['TotalPayBenefits']\n"
     ]
    },
    {
     "data": {
      "text/plain": [
       "JobTitle\n",
       "public safety communications technician    149.51\n",
       "Name: TotalPayBenefits, dtype: float64"
      ]
     },
     "execution_count": 26,
     "metadata": {},
     "output_type": "execute_result"
    }
   ],
   "source": [
    "x=df.groupby(['JobTitle']).mean()['TotalPayBenefits']\n",
    "e=x.sort_values(ascending=True) \n",
    "e.head(1)"
   ]
  },
  {
   "cell_type": "markdown",
   "id": "ae4b3410",
   "metadata": {},
   "source": [
    "## How does the salary distribution vary across different departments(JobTitle)?"
   ]
  },
  {
   "cell_type": "code",
   "execution_count": 27,
   "id": "1a2a38f6",
   "metadata": {},
   "outputs": [
    {
     "name": "stderr",
     "output_type": "stream",
     "text": [
      "C:\\Users\\elshazly.abouelhamd\\AppData\\Local\\Temp\\ipykernel_21548\\245790111.py:1: FutureWarning: The default value of numeric_only in DataFrameGroupBy.sum is deprecated. In a future version, numeric_only will default to False. Either specify numeric_only or select only columns which should be valid for the function.\n",
      "  df.groupby(['JobTitle']).sum()['TotalPayBenefits']\n"
     ]
    },
    {
     "data": {
      "text/plain": [
       "JobTitle\n",
       "account clerk                                     38551598.23\n",
       "accountant                                          237146.34\n",
       "accountant i                                       1089113.48\n",
       "accountant ii                                     41669482.21\n",
       "accountant ii (ocii)                                287567.90\n",
       "                                                     ...     \n",
       "worker's compensation supervisor i                  455103.63\n",
       "x-ray laboratory aide                              8339390.26\n",
       "youth comm advisor                                  627846.43\n",
       "youth commission advisor, board of supervisors       53632.87\n",
       "zoo curator                                          66686.56\n",
       "Name: TotalPayBenefits, Length: 1755, dtype: float64"
      ]
     },
     "execution_count": 27,
     "metadata": {},
     "output_type": "execute_result"
    }
   ],
   "source": [
    "df.groupby(['JobTitle']).sum()['TotalPayBenefits']"
   ]
  },
  {
   "cell_type": "markdown",
   "id": "cc6d2ea3",
   "metadata": {},
   "source": [
    "# 5. Top Earners:"
   ]
  },
  {
   "cell_type": "markdown",
   "id": "8053f92f",
   "metadata": {},
   "source": [
    "### Who are the top 10 earners in the dataset?"
   ]
  },
  {
   "cell_type": "code",
   "execution_count": 28,
   "id": "4998338a",
   "metadata": {
    "scrolled": true
   },
   "outputs": [
    {
     "data": {
      "text/plain": [
       "EmployeeName\n",
       "paulo morgado            712802.36\n",
       "william j coaker jr.     680669.54\n",
       "nathaniel ford           567595.43\n",
       "david e francl           565892.29\n",
       "arthur l wang            551116.09\n",
       "ronald terry             546240.06\n",
       "susan p ehrlich          543131.18\n",
       "gary jimenez             538909.28\n",
       "ellen munson brownell    516972.39\n",
       "david shinn              510732.68\n",
       "Name: TotalPayBenefits, dtype: float64"
      ]
     },
     "execution_count": 28,
     "metadata": {},
     "output_type": "execute_result"
    }
   ],
   "source": [
    "\n",
    "x=df.groupby(['EmployeeName']).max()['TotalPayBenefits']\n",
    "e=x.sort_values(ascending=False) \n",
    "e.head(10)\n",
    "\n"
   ]
  },
  {
   "cell_type": "markdown",
   "id": "77cae2f9",
   "metadata": {},
   "source": [
    "### •\tWhich department(JobTitle) has the highest number of top earners?"
   ]
  },
  {
   "cell_type": "code",
   "execution_count": 47,
   "id": "2ff5eeeb",
   "metadata": {},
   "outputs": [
    {
     "data": {
      "text/plain": [
       "JobTitle\n",
       "police officer 3    712802.36\n",
       "Name: TotalPayBenefits, dtype: float64"
      ]
     },
     "execution_count": 47,
     "metadata": {},
     "output_type": "execute_result"
    }
   ],
   "source": [
    "x=df.groupby(['JobTitle']).max()['TotalPayBenefits']\n",
    "e=x.sort_values(ascending=False) \n",
    "e.head(1)"
   ]
  },
  {
   "cell_type": "markdown",
   "id": "6cba4f01",
   "metadata": {},
   "source": [
    "# 7. Overtime Analysis:"
   ]
  },
  {
   "cell_type": "markdown",
   "id": "d4fa2e48",
   "metadata": {},
   "source": [
    "### What is the proportion of employees who receive overtime pay?"
   ]
  },
  {
   "cell_type": "code",
   "execution_count": 30,
   "id": "bb876763",
   "metadata": {},
   "outputs": [
    {
     "data": {
      "text/plain": [
       "48.824157350055295"
      ]
     },
     "execution_count": 30,
     "metadata": {},
     "output_type": "execute_result"
    }
   ],
   "source": [
    "x=df['EmployeeName'].count()\n",
    "z=df['OvertimePay']>0\n",
    "p=df[z].count()['OvertimePay']\n",
    "proportion=(p/x)*100\n",
    "proportion\n"
   ]
  },
  {
   "cell_type": "markdown",
   "id": "c8315783",
   "metadata": {},
   "source": [
    "### How does overtime pay affect the overall salary distribution? "
   ]
  },
  {
   "cell_type": "code",
   "execution_count": 31,
   "id": "d7a95cc4",
   "metadata": {
    "scrolled": true
   },
   "outputs": [
    {
     "name": "stdout",
     "output_type": "stream",
     "text": [
      "corelation between OvertimePay and TotalPayBenefits :  0.47414017352943233\n"
     ]
    }
   ],
   "source": [
    "relvevant_column=['JobTitle','OvertimePay','TotalPayBenefits']\n",
    "data_subset=df[relvevant_column]\n",
    "corelation=data_subset['OvertimePay'].corr(data_subset['TotalPayBenefits'])\n",
    "print('corelation between OvertimePay and TotalPayBenefits : ',corelation)"
   ]
  },
  {
   "cell_type": "markdown",
   "id": "7599a495",
   "metadata": {},
   "source": [
    "# 8. Benefits Analysis:"
   ]
  },
  {
   "cell_type": "markdown",
   "id": "1916e732",
   "metadata": {},
   "source": [
    "### What are the most common benefits offered to employees?"
   ]
  },
  {
   "cell_type": "code",
   "execution_count": 32,
   "id": "46577f76",
   "metadata": {},
   "outputs": [
    {
     "data": {
      "text/plain": [
       "Benefits\n",
       "7959.18    348\n",
       "Name: EmployeeName, dtype: int64"
      ]
     },
     "execution_count": 32,
     "metadata": {},
     "output_type": "execute_result"
    }
   ],
   "source": [
    "w=df['Benefits']==df['Benefits'].where(df['Benefits']>0)\n",
    "x=df[w].groupby(['Benefits']).count()['EmployeeName']\n",
    "e=x.sort_values(ascending=False) \n",
    "e.head(1)"
   ]
  },
  {
   "cell_type": "markdown",
   "id": "f87fdcbd",
   "metadata": {},
   "source": [
    "### Is there a correlation between benefits and salaries?"
   ]
  },
  {
   "cell_type": "code",
   "execution_count": 33,
   "id": "a985b795",
   "metadata": {
    "scrolled": true
   },
   "outputs": [
    {
     "name": "stdout",
     "output_type": "stream",
     "text": [
      "corelation between Benefits and TotalPayBenefits :  0.8550886158509741\n"
     ]
    }
   ],
   "source": [
    "relvevant_column=['JobTitle','Benefits','TotalPayBenefits']\n",
    "data_subset=df[relvevant_column]\n",
    "corelation=data_subset['Benefits'].corr(data_subset['TotalPayBenefits'])\n",
    "print('corelation between Benefits and TotalPayBenefits : ',corelation)"
   ]
  },
  {
   "cell_type": "code",
   "execution_count": 34,
   "id": "f2c5e994",
   "metadata": {},
   "outputs": [
    {
     "data": {
      "text/plain": [
       "0.8550886158509741"
      ]
     },
     "execution_count": 34,
     "metadata": {},
     "output_type": "execute_result"
    }
   ],
   "source": [
    "df['Benefits'].corr(df['TotalPayBenefits'])"
   ]
  },
  {
   "cell_type": "markdown",
   "id": "2162d582",
   "metadata": {},
   "source": [
    "# 9. Top Paid Job Titles:"
   ]
  },
  {
   "cell_type": "markdown",
   "id": "6ff6fe23",
   "metadata": {},
   "source": [
    "### What are the top 10 job titles with the highest average salaries? "
   ]
  },
  {
   "cell_type": "code",
   "execution_count": 35,
   "id": "8d172c2c",
   "metadata": {
    "scrolled": false
   },
   "outputs": [
    {
     "name": "stderr",
     "output_type": "stream",
     "text": [
      "C:\\Users\\elshazly.abouelhamd\\AppData\\Local\\Temp\\ipykernel_21548\\539274456.py:1: FutureWarning: The default value of numeric_only in DataFrameGroupBy.mean is deprecated. In a future version, numeric_only will default to False. Either specify numeric_only or select only columns which should be valid for the function.\n",
      "  x=df.groupby(['JobTitle']).mean()['TotalPayBenefits']\n"
     ]
    },
    {
     "data": {
      "text/plain": [
       "JobTitle\n",
       "chief investment officer                          611728.638000\n",
       "physician administrator, dph                      454471.806667\n",
       "managing director                                 438767.559091\n",
       "chief, fire department                            417767.857143\n",
       "general manager-metropolitan transit authority    399211.275000\n",
       "gen mgr, public trnsp dept                        389126.942857\n",
       "assistant chief of police                         387003.872500\n",
       "administrator, dph                                374311.562857\n",
       "dept head v                                       365736.799048\n",
       "dep dir for investments, ret                      355731.260000\n",
       "Name: TotalPayBenefits, dtype: float64"
      ]
     },
     "execution_count": 35,
     "metadata": {},
     "output_type": "execute_result"
    }
   ],
   "source": [
    "x=df.groupby(['JobTitle']).mean()['TotalPayBenefits']\n",
    "e=x.sort_values(ascending=False) \n",
    "e.head(10)"
   ]
  },
  {
   "cell_type": "markdown",
   "id": "86ad2375",
   "metadata": {},
   "source": [
    "## How many employees are in debt, name of them and Amount of indebtednessfor them ?"
   ]
  },
  {
   "cell_type": "markdown",
   "id": "02be8b28",
   "metadata": {},
   "source": [
    "###  count of employees are in debt"
   ]
  },
  {
   "cell_type": "code",
   "execution_count": 36,
   "id": "a2aeec21",
   "metadata": {
    "scrolled": true
   },
   "outputs": [
    {
     "data": {
      "text/plain": [
       "10"
      ]
     },
     "execution_count": 36,
     "metadata": {},
     "output_type": "execute_result"
    }
   ],
   "source": [
    "w=df['TotalPayBenefits'].where(df['TotalPayBenefits']<0)\n",
    "w.count()"
   ]
  },
  {
   "cell_type": "markdown",
   "id": "6a201a5d",
   "metadata": {},
   "source": [
    "### name of them and Amount of indebtednessfor them"
   ]
  },
  {
   "cell_type": "code",
   "execution_count": 37,
   "id": "761d58b5",
   "metadata": {
    "scrolled": true
   },
   "outputs": [
    {
     "data": {
      "text/html": [
       "<div>\n",
       "<style scoped>\n",
       "    .dataframe tbody tr th:only-of-type {\n",
       "        vertical-align: middle;\n",
       "    }\n",
       "\n",
       "    .dataframe tbody tr th {\n",
       "        vertical-align: top;\n",
       "    }\n",
       "\n",
       "    .dataframe thead th {\n",
       "        text-align: right;\n",
       "    }\n",
       "</style>\n",
       "<table border=\"1\" class=\"dataframe\">\n",
       "  <thead>\n",
       "    <tr style=\"text-align: right;\">\n",
       "      <th></th>\n",
       "      <th>EmployeeName</th>\n",
       "      <th>TotalPayBenefits</th>\n",
       "    </tr>\n",
       "  </thead>\n",
       "  <tbody>\n",
       "    <tr>\n",
       "      <th>110528</th>\n",
       "      <td>timothy e gibson</td>\n",
       "      <td>-2.73</td>\n",
       "    </tr>\n",
       "    <tr>\n",
       "      <th>110529</th>\n",
       "      <td>mark e laherty</td>\n",
       "      <td>-8.20</td>\n",
       "    </tr>\n",
       "    <tr>\n",
       "      <th>110530</th>\n",
       "      <td>david p kucia</td>\n",
       "      <td>-33.89</td>\n",
       "    </tr>\n",
       "    <tr>\n",
       "      <th>148649</th>\n",
       "      <td>joe lopez</td>\n",
       "      <td>-618.13</td>\n",
       "    </tr>\n",
       "    <tr>\n",
       "      <th>188036</th>\n",
       "      <td>lubna kaur</td>\n",
       "      <td>-295.32</td>\n",
       "    </tr>\n",
       "    <tr>\n",
       "      <th>229004</th>\n",
       "      <td>rana calonsag</td>\n",
       "      <td>-11.32</td>\n",
       "    </tr>\n",
       "    <tr>\n",
       "      <th>229005</th>\n",
       "      <td>bruce w moore</td>\n",
       "      <td>-13.15</td>\n",
       "    </tr>\n",
       "    <tr>\n",
       "      <th>229006</th>\n",
       "      <td>elvira james</td>\n",
       "      <td>-53.31</td>\n",
       "    </tr>\n",
       "    <tr>\n",
       "      <th>270571</th>\n",
       "      <td>carlos r castro santiago</td>\n",
       "      <td>-577.47</td>\n",
       "    </tr>\n",
       "    <tr>\n",
       "      <th>270572</th>\n",
       "      <td>melinda r valle</td>\n",
       "      <td>-3628.78</td>\n",
       "    </tr>\n",
       "  </tbody>\n",
       "</table>\n",
       "</div>"
      ],
      "text/plain": [
       "                    EmployeeName  TotalPayBenefits\n",
       "110528          timothy e gibson             -2.73\n",
       "110529            mark e laherty             -8.20\n",
       "110530             david p kucia            -33.89\n",
       "148649                 joe lopez           -618.13\n",
       "188036                lubna kaur           -295.32\n",
       "229004             rana calonsag            -11.32\n",
       "229005             bruce w moore            -13.15\n",
       "229006              elvira james            -53.31\n",
       "270571  carlos r castro santiago           -577.47\n",
       "270572           melinda r valle          -3628.78"
      ]
     },
     "execution_count": 37,
     "metadata": {},
     "output_type": "execute_result"
    }
   ],
   "source": [
    "z=df['TotalPayBenefits']<0\n",
    "df[z][['EmployeeName','TotalPayBenefits']]"
   ]
  },
  {
   "cell_type": "markdown",
   "id": "2ea1600c",
   "metadata": {},
   "source": [
    "# •\tWhat are the 5 departments that have the most indebted employees?"
   ]
  },
  {
   "cell_type": "code",
   "execution_count": 38,
   "id": "82d9396c",
   "metadata": {
    "scrolled": true
   },
   "outputs": [
    {
     "data": {
      "text/html": [
       "<div>\n",
       "<style scoped>\n",
       "    .dataframe tbody tr th:only-of-type {\n",
       "        vertical-align: middle;\n",
       "    }\n",
       "\n",
       "    .dataframe tbody tr th {\n",
       "        vertical-align: top;\n",
       "    }\n",
       "\n",
       "    .dataframe thead th {\n",
       "        text-align: right;\n",
       "    }\n",
       "</style>\n",
       "<table border=\"1\" class=\"dataframe\">\n",
       "  <thead>\n",
       "    <tr style=\"text-align: right;\">\n",
       "      <th></th>\n",
       "      <th>JobTitle</th>\n",
       "      <th>TotalPayBenefits</th>\n",
       "    </tr>\n",
       "  </thead>\n",
       "  <tbody>\n",
       "    <tr>\n",
       "      <th>270572</th>\n",
       "      <td>medical evaluations assistant</td>\n",
       "      <td>-3628.78</td>\n",
       "    </tr>\n",
       "    <tr>\n",
       "      <th>148649</th>\n",
       "      <td>counselor, log cabin ranch</td>\n",
       "      <td>-618.13</td>\n",
       "    </tr>\n",
       "    <tr>\n",
       "      <th>270571</th>\n",
       "      <td>custodian</td>\n",
       "      <td>-577.47</td>\n",
       "    </tr>\n",
       "    <tr>\n",
       "      <th>188036</th>\n",
       "      <td>ps aide health services</td>\n",
       "      <td>-295.32</td>\n",
       "    </tr>\n",
       "    <tr>\n",
       "      <th>229006</th>\n",
       "      <td>secretary 2</td>\n",
       "      <td>-53.31</td>\n",
       "    </tr>\n",
       "  </tbody>\n",
       "</table>\n",
       "</div>"
      ],
      "text/plain": [
       "                             JobTitle  TotalPayBenefits\n",
       "270572  medical evaluations assistant          -3628.78\n",
       "148649     counselor, log cabin ranch           -618.13\n",
       "270571                      custodian           -577.47\n",
       "188036        ps aide health services           -295.32\n",
       "229006                    secretary 2            -53.31"
      ]
     },
     "execution_count": 38,
     "metadata": {},
     "output_type": "execute_result"
    }
   ],
   "source": [
    "z=df['TotalPayBenefits']<0\n",
    "r=df[z][['JobTitle','TotalPayBenefits']]\n",
    "t=r.sort_values(by='TotalPayBenefits',ascending=True) \n",
    "t.head(5)\n"
   ]
  },
  {
   "cell_type": "markdown",
   "id": "97fcc914",
   "metadata": {},
   "source": [
    "# •\twhat is the most year in paying overtime allowance?"
   ]
  },
  {
   "cell_type": "code",
   "execution_count": 39,
   "id": "923e4d3d",
   "metadata": {},
   "outputs": [
    {
     "name": "stderr",
     "output_type": "stream",
     "text": [
      "C:\\Users\\elshazly.abouelhamd\\AppData\\Local\\Temp\\ipykernel_21548\\1234416101.py:1: FutureWarning: The default value of numeric_only in DataFrameGroupBy.sum is deprecated. In a future version, numeric_only will default to False. Either specify numeric_only or select only columns which should be valid for the function.\n",
      "  x=df.groupby(['Year']).sum()['OvertimePay']\n"
     ]
    },
    {
     "data": {
      "text/plain": [
       "Year\n",
       "2018    2.854499e+08\n",
       "Name: OvertimePay, dtype: float64"
      ]
     },
     "execution_count": 39,
     "metadata": {},
     "output_type": "execute_result"
    }
   ],
   "source": [
    "x=df.groupby(['Year']).sum()['OvertimePay']\n",
    "e=x.sort_values(ascending=False) \n",
    "e.head(1)"
   ]
  },
  {
   "cell_type": "markdown",
   "id": "b879be6d",
   "metadata": {},
   "source": [
    "# •\tWhat is the highest Over time allowance paid and what is the name of the paid employee?"
   ]
  },
  {
   "cell_type": "code",
   "execution_count": 40,
   "id": "a94dfd15",
   "metadata": {},
   "outputs": [
    {
     "data": {
      "text/html": [
       "<div>\n",
       "<style scoped>\n",
       "    .dataframe tbody tr th:only-of-type {\n",
       "        vertical-align: middle;\n",
       "    }\n",
       "\n",
       "    .dataframe tbody tr th {\n",
       "        vertical-align: top;\n",
       "    }\n",
       "\n",
       "    .dataframe thead th {\n",
       "        text-align: right;\n",
       "    }\n",
       "</style>\n",
       "<table border=\"1\" class=\"dataframe\">\n",
       "  <thead>\n",
       "    <tr style=\"text-align: right;\">\n",
       "      <th></th>\n",
       "      <th>EmployeeName</th>\n",
       "      <th>OvertimePay</th>\n",
       "    </tr>\n",
       "  </thead>\n",
       "  <tbody>\n",
       "    <tr>\n",
       "      <th>270579</th>\n",
       "      <td>antonio b santiago</td>\n",
       "      <td>309481.03</td>\n",
       "    </tr>\n",
       "  </tbody>\n",
       "</table>\n",
       "</div>"
      ],
      "text/plain": [
       "              EmployeeName  OvertimePay\n",
       "270579  antonio b santiago    309481.03"
      ]
     },
     "execution_count": 40,
     "metadata": {},
     "output_type": "execute_result"
    }
   ],
   "source": [
    "x=df['OvertimePay']==df['OvertimePay'].max()\n",
    "df[x][['EmployeeName','OvertimePay']]"
   ]
  },
  {
   "cell_type": "markdown",
   "id": "3aad9060",
   "metadata": {},
   "source": [
    "# •\tHow many employees whom Base Pay  Equal Zero"
   ]
  },
  {
   "cell_type": "code",
   "execution_count": 41,
   "id": "e25c2f00",
   "metadata": {},
   "outputs": [
    {
     "name": "stdout",
     "output_type": "stream",
     "text": [
      "Count of employees whom BasePay Equal Zero :  3852\n"
     ]
    }
   ],
   "source": [
    "count = (df['BasePay'] == 0).sum()\n",
    "print('Count of employees whom BasePay Equal Zero : ', count)"
   ]
  },
  {
   "cell_type": "markdown",
   "id": "1dbfc4b5",
   "metadata": {},
   "source": [
    "#  •\tHow many unique departments?"
   ]
  },
  {
   "cell_type": "code",
   "execution_count": 42,
   "id": "1962e46b",
   "metadata": {
    "scrolled": true
   },
   "outputs": [
    {
     "data": {
      "text/plain": [
       "0    1755\n",
       "dtype: int64"
      ]
     },
     "execution_count": 42,
     "metadata": {},
     "output_type": "execute_result"
    }
   ],
   "source": [
    "\n",
    "r=pd.DataFrame(df['JobTitle'].unique()).count()\n",
    "r\n",
    "\n"
   ]
  },
  {
   "cell_type": "markdown",
   "id": "0b811e1d",
   "metadata": {},
   "source": [
    "# •\tHow many unique departments for each year"
   ]
  },
  {
   "cell_type": "code",
   "execution_count": 43,
   "id": "212a42fb",
   "metadata": {},
   "outputs": [
    {
     "data": {
      "text/plain": [
       "Year\n",
       "2011    1045\n",
       "2012    1044\n",
       "2013    1051\n",
       "2014     996\n",
       "2015    1010\n",
       "2016    1009\n",
       "2017    1017\n",
       "2018    1000\n",
       "Name: JobTitle, dtype: int64"
      ]
     },
     "execution_count": 43,
     "metadata": {},
     "output_type": "execute_result"
    }
   ],
   "source": [
    "df.groupby('Year')['JobTitle'].nunique()\n"
   ]
  },
  {
   "cell_type": "markdown",
   "id": "7b080eaf",
   "metadata": {},
   "source": [
    "# 10. Employee Distribution:"
   ]
  },
  {
   "cell_type": "markdown",
   "id": "22c750eb",
   "metadata": {},
   "source": [
    "### •\tHow many employees work in each department(JobTitle)? "
   ]
  },
  {
   "cell_type": "code",
   "execution_count": 44,
   "id": "6c85a1cc",
   "metadata": {},
   "outputs": [
    {
     "data": {
      "text/plain": [
       "JobTitle\n",
       "account clerk                                     629\n",
       "accountant                                          5\n",
       "accountant i                                       15\n",
       "accountant ii                                     435\n",
       "accountant ii (ocii)                                3\n",
       "                                                 ... \n",
       "worker's compensation supervisor i                  5\n",
       "x-ray laboratory aide                             129\n",
       "youth comm advisor                                  9\n",
       "youth commission advisor, board of supervisors      1\n",
       "zoo curator                                         1\n",
       "Name: EmployeeName, Length: 1755, dtype: int64"
      ]
     },
     "execution_count": 44,
     "metadata": {},
     "output_type": "execute_result"
    }
   ],
   "source": [
    "df.groupby(['JobTitle']).count_distinct()['EmployeeName']"
   ]
  },
  {
   "cell_type": "markdown",
   "id": "5acf50ea",
   "metadata": {},
   "source": [
    "### •\tWhat is the percentage distribution of employees across different departments?"
   ]
  },
  {
   "cell_type": "code",
   "execution_count": 45,
   "id": "698b2c1c",
   "metadata": {
    "scrolled": true
   },
   "outputs": [
    {
     "data": {
      "text/plain": [
       "JobTitle\n",
       "account clerk                                     0.201034\n",
       "accountant                                        0.001598\n",
       "accountant i                                      0.004794\n",
       "accountant ii                                     0.139030\n",
       "accountant ii (ocii)                              0.000959\n",
       "                                                    ...   \n",
       "worker's compensation supervisor i                0.001598\n",
       "x-ray laboratory aide                             0.041230\n",
       "youth comm advisor                                0.002876\n",
       "youth commission advisor, board of supervisors    0.000320\n",
       "zoo curator                                       0.000320\n",
       "Name: EmployeeName, Length: 1755, dtype: float64"
      ]
     },
     "execution_count": 45,
     "metadata": {},
     "output_type": "execute_result"
    }
   ],
   "source": [
    "Total_Employee=df['EmployeeName'].count()\n",
    "percentage =(df.groupby(['JobTitle']).count()['EmployeeName']/Total_Employee)*100\n",
    "percentage \n"
   ]
  }
 ],
 "metadata": {
  "kernelspec": {
   "display_name": "Python 3 (ipykernel)",
   "language": "python",
   "name": "python3"
  },
  "language_info": {
   "codemirror_mode": {
    "name": "ipython",
    "version": 3
   },
   "file_extension": ".py",
   "mimetype": "text/x-python",
   "name": "python",
   "nbconvert_exporter": "python",
   "pygments_lexer": "ipython3",
   "version": "3.10.9"
  }
 },
 "nbformat": 4,
 "nbformat_minor": 5
}
